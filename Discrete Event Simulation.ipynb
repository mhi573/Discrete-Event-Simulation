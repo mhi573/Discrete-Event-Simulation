{
 "cells": [
  {
   "cell_type": "markdown",
   "id": "e4010cd2",
   "metadata": {},
   "source": [
    "# Monte Carlo Simulation - Group: James, Garo, Manny"
   ]
  },
  {
   "cell_type": "markdown",
   "id": "e746758d",
   "metadata": {},
   "source": [
    "### Data Preparation\n",
    "\n",
    "First, we will set up this notebook so that it will display multiple outputs for each cell if needed, as well as load the necessary libraries."
   ]
  },
  {
   "cell_type": "code",
   "execution_count": 1,
   "id": "de5e4007",
   "metadata": {},
   "outputs": [],
   "source": [
    "from IPython.core.interactiveshell import InteractiveShell\n",
    "InteractiveShell.ast_node_interactivity = \"all\""
   ]
  },
  {
   "cell_type": "code",
   "execution_count": null,
   "id": "40b2bdf1",
   "metadata": {},
   "outputs": [],
   "source": []
  },
  {
   "cell_type": "code",
   "execution_count": null,
   "id": "5c8be0ce",
   "metadata": {},
   "outputs": [],
   "source": []
  }
 ],
 "metadata": {
  "kernelspec": {
   "display_name": "Python 3 (ipykernel)",
   "language": "python",
   "name": "python3"
  },
  "language_info": {
   "codemirror_mode": {
    "name": "ipython",
    "version": 3
   },
   "file_extension": ".py",
   "mimetype": "text/x-python",
   "name": "python",
   "nbconvert_exporter": "python",
   "pygments_lexer": "ipython3",
   "version": "3.9.13"
  }
 },
 "nbformat": 4,
 "nbformat_minor": 5
}
